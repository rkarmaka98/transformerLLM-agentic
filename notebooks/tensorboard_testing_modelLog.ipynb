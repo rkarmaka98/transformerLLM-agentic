{
 "cells": [
  {
   "cell_type": "markdown",
   "id": "3ef5efab",
   "metadata": {},
   "source": [
    "# Visualizing Models, Data and Training with Tensorboard"
   ]
  },
  {
   "cell_type": "code",
   "execution_count": 1,
   "id": "0b62db24",
   "metadata": {},
   "outputs": [],
   "source": [
    "# import necessary libraries and modules\n",
    "import matplotlib.pyplot as plt\n",
    "import numpy as np\n",
    "\n",
    "import torch\n",
    "import torchvision\n",
    "import torchvision.transforms as transforms\n",
    "\n",
    "import torch.nn as nn\n",
    "import torch.nn.functional as F\n",
    "import torch.optim as optim"
   ]
  },
  {
   "cell_type": "markdown",
   "id": "0eb2c7c6",
   "metadata": {},
   "source": [
    "Transformations are preprocessing pipeline that every image passes through before going through training or inference.\n",
    "The model expects tensors not raw image arrays and normalization helps in gradients flow better. Data augmentations through transformation make model more robust."
   ]
  },
  {
   "cell_type": "code",
   "execution_count": 2,
   "id": "f738f416",
   "metadata": {},
   "outputs": [],
   "source": [
    "# define transformations for the dataset by stacking a chain of preprocessing steps\n",
    "# each image will go through these steps before being fed to the model\n",
    "transform = transforms.Compose(\n",
    "    # Convert PIL Image [0,255] or numpy.ndarray to Pytorch tensor [0,1]\n",
    "    [\n",
    "        transforms.ToTensor(),\n",
    "        # Normalize tensor with mean(0.5) and std deviation(0.5) to range [-1,1]\n",
    "        # Keeps input centered around 0 and helps optimization (gradient descent) converge faster\n",
    "        # Prevents one feature (pixel brightness) from dominating others\n",
    "        # works better with activation functions like tanh, sigmoid\n",
    "        transforms.Normalize((0.5,), (0.5,)),\n",
    "    ]\n",
    ")"
   ]
  },
  {
   "cell_type": "code",
   "execution_count": 3,
   "id": "69fbb237",
   "metadata": {},
   "outputs": [],
   "source": [
    "# load datasets\n",
    "trainset = torchvision.datasets.FashionMNIST(\n",
    "    \"./data\", download=True, train=True, transform=transform\n",
    ")\n",
    "testset = torchvision.datasets.FashionMNIST(\n",
    "    \"./data\", download=True, train=False, transform=transform\n",
    ")\n",
    "\n",
    "# dataloaders\n",
    "trainloader = torch.utils.data.DataLoader(\n",
    "    trainset, batch_size=4, shuffle=True, num_workers=2\n",
    ")\n",
    "\n",
    "\n",
    "testloader = torch.utils.data.DataLoader(\n",
    "    testset, batch_size=4, shuffle=False, num_workers=2\n",
    ")"
   ]
  },
  {
   "cell_type": "code",
   "execution_count": 4,
   "id": "7dad4307",
   "metadata": {},
   "outputs": [],
   "source": [
    "# constant for classes\n",
    "classes = (\n",
    "    \"T-shirt/top\",\n",
    "    \"Trouser\",\n",
    "    \"Pullover\",\n",
    "    \"Dress\",\n",
    "    \"Coat\",\n",
    "    \"Sandal\",\n",
    "    \"Shirt\",\n",
    "    \"Sneaker\",\n",
    "    \"Bag\",\n",
    "    \"Ankle Boot\",\n",
    ")\n",
    "\n",
    "\n",
    "# helper function to show an image\n",
    "# (used in the `plot_classes_preds` function below)\n",
    "def matplotlib_imshow(img, one_channel=False):\n",
    "    if one_channel:\n",
    "        img = img.mean(dim=0)\n",
    "    img = img / 2 + 0.5  # unnormalize\n",
    "    npimg = img.numpy()\n",
    "    if one_channel:\n",
    "        plt.imshow(npimg, cmap=\"Greys\")\n",
    "    else:\n",
    "        plt.imshow(np.transpose(npimg, (1, 2, 0)))"
   ]
  },
  {
   "cell_type": "code",
   "execution_count": 5,
   "id": "07224138",
   "metadata": {},
   "outputs": [],
   "source": [
    "# Convs to extract features (edges, shapes, textures).\n",
    "# Pooling to reduce spatial size while keeping important info.\n",
    "# FC layers to make final classification decisions.\n",
    "\n",
    "\n",
    "class Net(nn.Module):\n",
    "    def __init__(self):\n",
    "        super(Net, self).__init__()\n",
    "        # input channel 1 (grayscale), output 6 channels enough to capture basic features\n",
    "        self.conv1 = nn.Conv2d(1, 6, 5)\n",
    "        # Half the spatial dimensions keeps strongest features, reduces computation\n",
    "        self.pool = nn.MaxPool2d(2, 2)\n",
    "        self.conv2 = nn.Conv2d(6, 16, 5)\n",
    "        self.fc1 = nn.Linear(16 * 4 * 4, 120)\n",
    "        self.fc2 = nn.Linear(120, 84)\n",
    "        self.fc3 = nn.Linear(84, 10)\n",
    "\n",
    "    def forward(self, x):\n",
    "        x = self.pool(F.relu(self.conv1(x)))\n",
    "        x = self.pool(F.relu(self.conv2(x)))\n",
    "        # Before going into fully connected layers, flatten the 3D tensor to 1D, -1 infers batch size\n",
    "        x = x.view(-1, 16 * 4 * 4)\n",
    "        # RELU adds non-linearity, helps model learn complex patterns\n",
    "        x = F.relu(self.fc1(x))\n",
    "        x = F.relu(self.fc2(x))\n",
    "        x = self.fc3(x)\n",
    "        return x\n",
    "\n",
    "\n",
    "net = Net()"
   ]
  },
  {
   "cell_type": "code",
   "execution_count": 6,
   "id": "66bf48a2",
   "metadata": {},
   "outputs": [],
   "source": [
    "criterion = nn.CrossEntropyLoss()\n",
    "optimizer = optim.SGD(net.parameters(), lr=0.001, momentum=0.9)"
   ]
  },
  {
   "cell_type": "markdown",
   "id": "fc3db5d9",
   "metadata": {},
   "source": [
    "# Writing into Tensorboard"
   ]
  },
  {
   "cell_type": "code",
   "execution_count": null,
   "id": "8667da80",
   "metadata": {},
   "outputs": [],
   "source": [
    "from torch.utils.tensorboard import SummaryWriter\n",
    "\n",
    "# SummaryWriter is our key object for writing information to Tensorboard\n",
    "# default `log_dir` is \"runs\" - we'll be more specific here\n",
    "writer = SummaryWriter(\"runs/fashion_mnist_experiment_1\")"
   ]
  },
  {
   "cell_type": "code",
   "execution_count": null,
   "id": "a99099ce",
   "metadata": {},
   "outputs": [
    {
     "data": {
      "image/png": "[encoded data removed]",
      "text/plain": [
       "<Figure size 640x480 with 1 Axes>"
      ]
     },
     "metadata": {},
     "output_type": "display_data"
    }
   ],
   "source": [
    "# Makes an iterator object out of the dataloader object\n",
    "dataiter = iter(trainloader)\n",
    "# gives the next batch of images and labels (4 each bc batch_size=4)\n",
    "images, labels = next(dataiter)\n",
    "\n",
    "# create grid of images\n",
    "img_grid = torchvision.utils.make_grid(images)\n",
    "\n",
    "# show images\n",
    "matplotlib_imshow(img_grid, one_channel=True)\n",
    "\n",
    "# write to tensorboard\n",
    "writer.add_image(\"four_fashion_mnist_images\", img_grid)"
   ]
  },
  {
   "cell_type": "code",
   "execution_count": null,
   "id": "aa2fbaeb",
   "metadata": {},
   "outputs": [],
   "source": [
    "# write model graph to tensorboard\n",
    "writer.add_graph(net, images)\n",
    "writer.close()"
   ]
  },
  {
   "cell_type": "code",
   "execution_count": null,
   "id": "3cb7ff9c",
   "metadata": {},
   "outputs": [
    {
     "name": "stdout",
     "output_type": "stream",
     "text": [
      "warning: Embedding dir exists, did you set global_step for add_embedding()?\n"
     ]
    }
   ],
   "source": [
    "# The purpose of this code is to select a random subset of images and their corresponding labels from\n",
    "# the training dataset, reshape the images into flat feature vectors, and then log these embeddings to\n",
    "# Tensorboard. This allows visualization of how the images are arranged in the high-dimensional feature space.\n",
    "#\n",
    "# The function select_n_random randomly picks n datapoints (and their labels) from the dataset.\n",
    "def select_n_random(data, labels, n=100):\n",
    "    \"\"\"\n",
    "    Selects n random datapoints and their corresponding labels from a dataset.\n",
    "\n",
    "    The function first creates a random permutation of the indices, then selects the first n datapoints.\n",
    "    This helps in visualizing a diverse subset of the dataset in Tensorboard.\n",
    "    \"\"\"\n",
    "    assert len(data) == len(labels)\n",
    "    perm = torch.randperm(len(data))\n",
    "    return data[perm][:n], labels[perm][:n]\n",
    "\n",
    "\n",
    "# Select a random subset of images and labels from the training dataset\n",
    "images, labels = select_n_random(trainset.data, trainset.targets)\n",
    "\n",
    "# Convert label indices to their actual class names using the `classes` tuple.\n",
    "class_labels = [classes[lab] for lab in labels]\n",
    "\n",
    "# Reshape the images into feature vectors (flattening each 28x28 image into a 784-dimensional vector)\n",
    "features = images.view(-1, 28 * 28)\n",
    "\n",
    "# Log the embeddings to Tensorboard. For each image, we record its flattened feature vector,\n",
    "# its class (metadata), and the original image (as label_img) for context.\n",
    "writer.add_embedding(features, metadata=class_labels, label_img=images.unsqueeze(1))\n",
    "writer.close()"
   ]
  },
  {
   "cell_type": "markdown",
   "id": "82134c11",
   "metadata": {},
   "source": [
    "The function images_to_probs computes the network’s predictions on a batch of images and returns both the predicted class indices and their corresponding probabilities (using softmax on the logits). The function plot_classes_preds uses images_to_probs to obtain predictions and probabilities, then shows a grid of images with the predicted and true labels annotated, coloring predictions in green if they match and in red if they don’t."
   ]
  },
  {
   "cell_type": "code",
   "execution_count": null,
   "id": "62db6504",
   "metadata": {},
   "outputs": [],
   "source": [
    "# helper functions\n",
    "\n",
    "\n",
    "def images_to_probs(net, images):\n",
    "    \"\"\"\n",
    "    Generates predictions and corresponding probabilities from a trained\n",
    "    network and a list of images\n",
    "    \"\"\"\n",
    "    output = net(images)\n",
    "    # convert output probabilities to predicted class\n",
    "    _, preds_tensor = torch.max(output, 1)\n",
    "    preds = np.squeeze(preds_tensor.numpy())\n",
    "    return preds, [F.softmax(el, dim=0)[i].item() for i, el in zip(preds, output)]\n",
    "\n",
    "\n",
    "def plot_classes_preds(net, images, labels):\n",
    "    \"\"\"\n",
    "    Generates matplotlib Figure using a trained network, along with images\n",
    "    and labels from a batch, that shows the network's top prediction along\n",
    "    with its probability, alongside the actual label, coloring this\n",
    "    information based on whether the prediction was correct or not.\n",
    "    Uses the \"images_to_probs\" function.\n",
    "    \"\"\"\n",
    "    preds, probs = images_to_probs(net, images)\n",
    "    # plot the images in the batch, along with predicted and true labels\n",
    "    fig = plt.figure(figsize=(12, 48))\n",
    "    for idx in np.arange(4):\n",
    "        ax = fig.add_subplot(1, 4, idx + 1, xticks=[], yticks=[])\n",
    "        matplotlib_imshow(images[idx], one_channel=True)\n",
    "        ax.set_title(\n",
    "            \"{0}, {1:.1f}%\\n(label: {2})\".format(\n",
    "                classes[preds[idx]], probs[idx] * 100.0, classes[labels[idx]]\n",
    "            ),\n",
    "            color=(\"green\" if preds[idx] == labels[idx].item() else \"red\"),\n",
    "        )\n",
    "    return fig"
   ]
  },
  {
   "cell_type": "code",
   "execution_count": null,
   "id": "303fc3a6",
   "metadata": {},
   "outputs": [
    {
     "name": "stdout",
     "output_type": "stream",
     "text": [
      "Finished Training\n"
     ]
    }
   ],
   "source": [
    "running_loss = 0.0\n",
    "for epoch in range(1):  # loop over the dataset multiple times\n",
    "    for i, data in enumerate(trainloader, 0):\n",
    "        # get the inputs; data is a list of [inputs, labels]\n",
    "        inputs, labels = data\n",
    "\n",
    "        # zero the parameter gradients\n",
    "        optimizer.zero_grad()\n",
    "\n",
    "        # forward + backward + optimize\n",
    "        outputs = net(inputs)\n",
    "        loss = criterion(outputs, labels)\n",
    "        loss.backward()\n",
    "        optimizer.step()\n",
    "\n",
    "        running_loss += loss.item()\n",
    "        if i % 1000 == 999:  # every 1000 mini-batches...\n",
    "            # ...log the running loss\n",
    "            writer.add_scalar(\n",
    "                \"training loss\", running_loss / 1000, epoch * len(trainloader) + i\n",
    "            )\n",
    "\n",
    "            # ...log a Matplotlib Figure showing the model's predictions on a\n",
    "            # random mini-batch\n",
    "            writer.add_figure(\n",
    "                \"predictions vs. actuals\",\n",
    "                plot_classes_preds(net, inputs, labels),\n",
    "                global_step=epoch * len(trainloader) + i,\n",
    "            )\n",
    "            running_loss = 0.0\n",
    "print(\"Finished Training\")"
   ]
  },
  {
   "cell_type": "code",
   "execution_count": null,
   "id": "5a5d126f",
   "metadata": {},
   "outputs": [],
   "source": [
    "# 1. gets the probability predictions in a test_size x num_classes Tensor\n",
    "# 2. gets the preds in a test_size Tensor\n",
    "# takes ~10 seconds to run\n",
    "class_probs = []\n",
    "class_label = []\n",
    "with torch.no_grad():\n",
    "    for data in testloader:\n",
    "        images, labels = data\n",
    "        output = net(images)\n",
    "        class_probs_batch = [F.softmax(el, dim=0) for el in output]\n",
    "\n",
    "        class_probs.append(class_probs_batch)\n",
    "        class_label.append(labels)\n",
    "\n",
    "test_probs = torch.cat([torch.stack(batch) for batch in class_probs])\n",
    "test_label = torch.cat(class_label)\n",
    "\n",
    "\n",
    "# helper function\n",
    "def add_pr_curve_tensorboard(class_index, test_probs, test_label, global_step=0):\n",
    "    \"\"\"\n",
    "    Takes in a \"class_index\" from 0 to 9 and plots the corresponding\n",
    "    precision-recall curve\n",
    "    \"\"\"\n",
    "    tensorboard_truth = test_label == class_index\n",
    "    tensorboard_probs = test_probs[:, class_index]\n",
    "\n",
    "    writer.add_pr_curve(\n",
    "        classes[class_index],\n",
    "        tensorboard_truth,\n",
    "        tensorboard_probs,\n",
    "        global_step=global_step,\n",
    "    )\n",
    "    writer.close()\n",
    "\n",
    "\n",
    "# plot all the pr curves\n",
    "for i in range(len(classes)):\n",
    "    add_pr_curve_tensorboard(i, test_probs, test_label)"
   ]
  }
 ],
 "metadata": {
  "kernelspec": {
   "display_name": "transformer-scratch",
   "language": "python",
   "name": "python3"
  },
  "language_info": {
   "codemirror_mode": {
    "name": "ipython",
    "version": 3
   },
   "file_extension": ".py",
   "mimetype": "text/x-python",
   "name": "python",
   "nbconvert_exporter": "python",
   "pygments_lexer": "ipython3",
   "version": "3.10.18"
  }
 },
 "nbformat": 4,
 "nbformat_minor": 5
}
